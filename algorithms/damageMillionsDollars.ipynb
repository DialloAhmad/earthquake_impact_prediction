{
 "cells": [
  {
   "cell_type": "markdown",
   "metadata": {
    "id": "nW1DQtlH2Prm"
   },
   "source": [
    "# HistGradientBoostingRegressor\n",
    "Pour ce besoin qui consiste à prédire les consénquences humaines (nombre de morts et nombre de blessés) et matérielles (dommages en millions de dollars) des tremblements de terre, nous avons choisi d'utiliser le modèle Hist Gradient Boosting Regressor, pour sa capacité d'accepter les valeurs nulles étant donné nos données comportent beaucoup de valeurs nulles.\n"
   ]
  },
  {
   "cell_type": "markdown",
   "metadata": {
    "id": "ZCB0NDuk4waX"
   },
   "source": [
    "# Ce modèle vise à prédire les dommages des séismes"
   ]
  },
  {
   "cell_type": "markdown",
   "metadata": {
    "id": "BuUFhwJ03tgh"
   },
   "source": [
    "#Tout d'abord, les librairies ci-dessous sont nécessaires pour le fonctionnement du modèle :"
   ]
  },
  {
   "cell_type": "code",
   "execution_count": 3,
   "metadata": {
    "executionInfo": {
     "elapsed": 2033,
     "status": "ok",
     "timestamp": 1714946385448,
     "user": {
      "displayName": "Thierno Amadou Diallo",
      "userId": "03010582142303045952"
     },
     "user_tz": -120
    },
    "id": "GHPn5Llc1ueP"
   },
   "outputs": [],
   "source": [
    "import pandas as pd\n",
    "from sklearn.preprocessing import StandardScaler\n",
    "from sklearn.model_selection import train_test_split\n",
    "from sklearn.metrics import mean_absolute_error, r2_score\n",
    "import matplotlib.pyplot as plt\n",
    "from sklearn.compose import ColumnTransformer\n",
    "from sklearn.ensemble import HistGradientBoostingRegressor\n",
    "from sklearn.preprocessing import OrdinalEncoder\n"
   ]
  },
  {
   "cell_type": "markdown",
   "metadata": {
    "id": "_ReewIQv3-0s"
   },
   "source": [
    "# Fichier d'entrée pour le modèle d'entraînement\n",
    "Ici, nous chargeons notre dataset et nous supprimons les lignes pour lesquelles notre variable cible (nombre de morts) est nulle"
   ]
  },
  {
   "cell_type": "code",
   "execution_count": 4,
   "metadata": {
    "colab": {
     "base_uri": "https://localhost:8080/"
    },
    "executionInfo": {
     "elapsed": 253,
     "status": "ok",
     "timestamp": 1714946389394,
     "user": {
      "displayName": "Thierno Amadou Diallo",
      "userId": "03010582142303045952"
     },
     "user_tz": -120
    },
    "id": "pdnRPcBC3_jh",
    "outputId": "bfa4184c-e1d8-4b9c-ced1-6a5f83467d07"
   },
   "outputs": [
    {
     "name": "stdout",
     "output_type": "stream",
     "text": [
      "   year countryName  deaths  intervaldeath  injuries intervalinjuries  \\\n",
      "0  1926   Indonesia     NaN  Not specified       NaN    Not specified   \n",
      "1  1926   Nicaragua     NaN  Not specified       NaN    Not specified   \n",
      "2  1926       China     NaN  Not specified       NaN    Not specified   \n",
      "3  1926       Chile     NaN  Not specified       NaN    Not specified   \n",
      "4  1926     Albania     NaN  Not specified       NaN    Not specified   \n",
      "\n",
      "   damagemillionsdollars intervaldamagemillionsdollars  depth  intervaldepth  \\\n",
      "0                    NaN                 Not specified    NaN  Not specified   \n",
      "1                    NaN                 Not specified  135.0         50-410   \n",
      "2                    NaN                 Not specified    NaN  Not specified   \n",
      "3                    NaN                 Not specified   33.0          10-50   \n",
      "4                    NaN                 Not specified    NaN  Not specified   \n",
      "\n",
      "   ...  sealevelrise intervalsealevelrise  co2emissions    intervalco2  \\\n",
      "0  ...           NaN        Not specified           NaN  Not specified   \n",
      "1  ...           NaN        Not specified           NaN  Not specified   \n",
      "2  ...           NaN        Not specified           NaN  Not specified   \n",
      "3  ...           NaN        Not specified           NaN  Not specified   \n",
      "4  ...           NaN        Not specified           NaN  Not specified   \n",
      "\n",
      "   povertylevel intervalpovertylevel  populationdensity  \\\n",
      "0           NaN        Not specified                NaN   \n",
      "1           NaN        Not specified                NaN   \n",
      "2           NaN        Not specified                NaN   \n",
      "3           NaN        Not specified                NaN   \n",
      "4           NaN        Not specified                NaN   \n",
      "\n",
      "  intervalpopulationdensity  intensity sismicscore  \n",
      "0             Not specified        NaN    7.314553  \n",
      "1             Not specified        NaN    4.174387  \n",
      "2             Not specified        7.0    7.373374  \n",
      "3             Not specified        NaN    6.856462  \n",
      "4             Not specified       10.0    4.262680  \n",
      "\n",
      "[5 rows x 24 columns]\n",
      "368\n"
     ]
    }
   ],
   "source": [
    "data = pd.read_csv(\"../data/human_and_material_consequences.csv\", sep=';')\n",
    "\n",
    "print(data.head())\n",
    "\n",
    "data = data.dropna(subset=['damagemillionsdollars'])\n",
    "\n",
    "print(len(data))\n"
   ]
  },
  {
   "cell_type": "markdown",
   "metadata": {
    "id": "HNRbDX5i5P6h"
   },
   "source": [
    "#Définiton des features et normalisation des données\n",
    "Nous définition nos ensembles d'entraînement et de test, nous avons fixer le paramètre random_state à 45 :\n"
   ]
  },
  {
   "cell_type": "code",
   "execution_count": 5,
   "metadata": {
    "executionInfo": {
     "elapsed": 250,
     "status": "ok",
     "timestamp": 1714946392902,
     "user": {
      "displayName": "Thierno Amadou Diallo",
      "userId": "03010582142303045952"
     },
     "user_tz": -120
    },
    "id": "IRaoQm5s5QtL"
   },
   "outputs": [],
   "source": [
    "features = data.drop(['damagemillionsdollars'], axis = 1)\n",
    "target = data['damagemillionsdollars']\n",
    "\n",
    "# Séparation des variables catégorielles et numériques\n",
    "categorical_cols = [col for col in features if data[col].dtype == 'object']\n",
    "numerical_cols = [col for col in features if data[col].dtype != 'object']\n",
    "\n",
    "X = features\n",
    "y = target\n",
    "\n",
    "# Normalisation des données numériques\n",
    "scaler = StandardScaler()\n",
    "X[numerical_cols] = scaler.fit_transform(X[numerical_cols])\n",
    "\n",
    "# Division des données en ensembles d'entraînement et de test\n",
    "X_train, X_test, y_train, y_test = train_test_split(features, target, test_size=0.2, random_state=45)\n"
   ]
  },
  {
   "cell_type": "markdown",
   "metadata": {
    "id": "gYXxeS_05ozy"
   },
   "source": [
    "#Transformation des variables catégorielles\n",
    "Les variables catégorielles pouvant être utilisées, nous avons éffectué du Ordinal Encoding sur ces variables afin de les transformer pour qu'elles soient mieux traitées par notre modèle."
   ]
  },
  {
   "cell_type": "code",
   "execution_count": 6,
   "metadata": {
    "executionInfo": {
     "elapsed": 252,
     "status": "ok",
     "timestamp": 1714946395935,
     "user": {
      "displayName": "Thierno Amadou Diallo",
      "userId": "03010582142303045952"
     },
     "user_tz": -120
    },
    "id": "a5r9oTwI5pMx"
   },
   "outputs": [],
   "source": [
    "cat_transformer = OrdinalEncoder(handle_unknown='use_encoded_value', unknown_value=-1)\n",
    "\n",
    "\n",
    "preprocessor = ColumnTransformer(\n",
    "    transformers=[\n",
    "        ('cat', cat_transformer, categorical_cols)\n",
    "    ], remainder='passthrough')\n",
    "\n"
   ]
  },
  {
   "cell_type": "markdown",
   "metadata": {
    "id": "i9tYOesw6Z8t"
   },
   "source": [
    "# Initialisation et entraînement du modèle\n",
    "Maintenant que nos différents ensembles sont prêt, nous pouvons initialiser notre modèle et l'entraîner, avec les hyperparamètres suivants :\n",
    "loss=\"absolute_error\", l2_regularization = 0.0004, max_iter= 165, max_leaf_nodes= 15, min_samples_leaf= 10"
   ]
  },
  {
   "cell_type": "code",
   "execution_count": 7,
   "metadata": {
    "colab": {
     "base_uri": "https://localhost:8080/"
    },
    "executionInfo": {
     "elapsed": 980,
     "status": "ok",
     "timestamp": 1714946399600,
     "user": {
      "displayName": "Thierno Amadou Diallo",
      "userId": "03010582142303045952"
     },
     "user_tz": -120
    },
    "id": "LvizoiqC6fYk",
    "outputId": "2e87919f-78ac-4d31-dcb2-9a6d797033bd"
   },
   "outputs": [
    {
     "name": "stdout",
     "output_type": "stream",
     "text": [
      "[ 7.34982006e+00 -9.53390878e+00  4.44353643e+01  6.15426996e+01\n",
      "  2.70835101e+01  5.72953676e-01  2.25715171e+01  1.01964186e+01\n",
      " -1.53139200e+00  2.80310163e+02  6.54995591e+00 -4.96120163e+00\n",
      "  2.32435615e-01 -6.06280662e+01  7.23019468e+00  1.16101376e+01\n",
      "  1.01821385e+01 -2.56984070e+00  1.35499870e+02  3.34597595e+02\n",
      "  4.50476104e+00  2.70243358e+03  3.30724793e+03  1.67639374e+01\n",
      "  1.39931735e+02  5.71126149e-01  2.35302459e+02  7.92172798e+01\n",
      "  2.76244048e+03 -1.99493033e+01  2.06599391e+00  1.87695605e+02\n",
      "  9.34403037e+01  7.42412670e+02  1.64918363e+02  1.44478354e+02\n",
      "  3.00861632e+01  4.55966268e+01  1.79027013e+00  1.93605469e+02\n",
      " -9.71533934e+00 -1.19861450e+00  1.04730591e+00  4.26908478e+01\n",
      "  1.28037186e+02  5.09304974e+02  1.39637593e+01  1.64199722e+02\n",
      "  2.63603210e+03  1.61651052e+01  1.00474631e+03  3.31046559e+02\n",
      "  4.15360640e+02  5.76466423e+00  8.88665208e+00  4.20066236e+02\n",
      "  2.09093011e+03 -7.77412154e+00  6.43672063e+00  2.73338648e+02\n",
      "  8.38727656e+02  1.51586000e+01 -2.61582030e+01  1.49143810e+02\n",
      "  2.53066105e+00  1.14852935e+01  3.19760099e-01  7.65949210e+00\n",
      "  1.17491308e+01  5.99083110e+01  2.67674115e+03  2.28939210e+02\n",
      "  1.96592169e+03 -3.21569401e+00]\n"
     ]
    }
   ],
   "source": [
    "X_train = preprocessor.fit_transform(X_train)\n",
    "X_test = preprocessor.transform(X_test)\n",
    "\n",
    "model = HistGradientBoostingRegressor(loss=\"absolute_error\", l2_regularization = 0.0004,\n",
    "                                      max_iter= 165, max_leaf_nodes= 15, min_samples_leaf= 10)\n",
    "model.fit(X_train, y_train)\n",
    "\n",
    "# Prédiction sur l'ensemble de test\n",
    "y_pred = model.predict(X_test)\n",
    "\n",
    "print(y_pred)\n"
   ]
  },
  {
   "cell_type": "markdown",
   "metadata": {
    "id": "VxtnxClK62EZ"
   },
   "source": [
    "# Evalutation du modèle\n",
    "Maintenant que notre modèle a été initialiser et entraîner, il est temps d'évaluer ses performances"
   ]
  },
  {
   "cell_type": "code",
   "execution_count": 8,
   "metadata": {
    "colab": {
     "base_uri": "https://localhost:8080/"
    },
    "executionInfo": {
     "elapsed": 250,
     "status": "ok",
     "timestamp": 1714946403782,
     "user": {
      "displayName": "Thierno Amadou Diallo",
      "userId": "03010582142303045952"
     },
     "user_tz": -120
    },
    "id": "ZFtBz1v368ZU",
    "outputId": "f4e8ce5c-1bc7-4cc9-ee35-721fad60c1f1"
   },
   "outputs": [
    {
     "name": "stdout",
     "output_type": "stream",
     "text": [
      "Mean Absolute Error: 183.67560077776187\n",
      "R2 Score: 0.7046672308896413\n"
     ]
    }
   ],
   "source": [
    "# Évaluation de la performance du modèle\n",
    "mae = mean_absolute_error(y_test, y_pred)\n",
    "print(\"Mean Absolute Error:\", mae)\n",
    "\n",
    "r2 = r2_score(y_test, y_pred)\n",
    "print(\"R2 Score:\", r2)\n"
   ]
  },
  {
   "cell_type": "markdown",
   "metadata": {
    "id": "CZoT3SeA6-1U"
   },
   "source": [
    "#Visualisation\n",
    "Nous pouvons visualiser les valeurs prédites par notre modèle par rapport aux valeurs réelles afin de mieux évaluer les performances du modèle"
   ]
  },
  {
   "cell_type": "code",
   "execution_count": 9,
   "metadata": {
    "colab": {
     "base_uri": "https://localhost:8080/",
     "height": 565
    },
    "executionInfo": {
     "elapsed": 761,
     "status": "ok",
     "timestamp": 1714946407373,
     "user": {
      "displayName": "Thierno Amadou Diallo",
      "userId": "03010582142303045952"
     },
     "user_tz": -120
    },
    "id": "7lCZ4JPJ6_3M",
    "outputId": "0067892a-4644-4ba7-da73-8958bee2ca83"
   },
   "outputs": [
    {
     "data": {
      "image/png": "[encoded data removed]",
      "text/plain": [
       "<Figure size 800x600 with 1 Axes>"
      ]
     },
     "metadata": {},
     "output_type": "display_data"
    }
   ],
   "source": [
    "# Visualisation des valeurs prédites par rapport aux valeurs réelles\n",
    "plt.figure(figsize=(8, 6))\n",
    "plt.scatter(y_test, y_pred, color='blue', label='Valeurs Prédites')\n",
    "plt.scatter(y_test, y_test, color='red', label='Valeurs Réelles')\n",
    "plt.title('Dommages en millions de dollars : Valeurs Prédites vs Valeurs Réelles')\n",
    "plt.xlabel('Valeurs Réelles')\n",
    "plt.ylabel('Valeurs Prédites')\n",
    "plt.legend()\n",
    "plt.show()\n"
   ]
  }
 ],
 "metadata": {
  "colab": {
   "authorship_tag": "ABX9TyOCk+bOK0GEu+CykjDrnVZw",
   "provenance": []
  },
  "kernelspec": {
   "display_name": "Python 3",
   "name": "python3"
  },
  "language_info": {
   "name": "python"
  }
 },
 "nbformat": 4,
 "nbformat_minor": 0
}
