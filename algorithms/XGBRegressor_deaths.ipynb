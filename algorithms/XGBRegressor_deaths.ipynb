{
 "cells": [
  {
   "cell_type": "markdown",
   "metadata": {
    "id": "nW1DQtlH2Prm"
   },
   "source": [
    "# XGBRegressor\n",
    "Pour ce besoin qui consiste à prédire les consénquences humaines (nombre de morts et nombre de blessés) et matérielles (dommages en millions de dollars) des tremblements de terre, nous avons choisi d'utiliser le modèle XGBRegressor, pour sa capacité d'accepter les valeurs nulles étant donné nos données comportent beaucoup de valeurs nulles.\n"
   ]
  },
  {
   "cell_type": "markdown",
   "metadata": {
    "id": "ZCB0NDuk4waX"
   },
   "source": [
    "# Ce modèle vise à prédire le nombre de morts des séismes"
   ]
  },
  {
   "cell_type": "markdown",
   "metadata": {
    "id": "BuUFhwJ03tgh"
   },
   "source": [
    "#Tout d'abord, les librairies ci-dessous sont nécessaires pour le fonctionnement du modèle :"
   ]
  },
  {
   "cell_type": "code",
   "execution_count": 1,
   "metadata": {
    "executionInfo": {
     "elapsed": 1742,
     "status": "ok",
     "timestamp": 1714798399156,
     "user": {
      "displayName": "Thierno Amadou Diallo",
      "userId": "03010582142303045952"
     },
     "user_tz": -120
    },
    "id": "GHPn5Llc1ueP"
   },
   "outputs": [],
   "source": [
    "import pandas as pd\n",
    "from sklearn.preprocessing import StandardScaler\n",
    "from sklearn.model_selection import train_test_split\n",
    "from sklearn.metrics import mean_absolute_error, r2_score\n",
    "import matplotlib.pyplot as plt\n",
    "from sklearn.compose import ColumnTransformer\n",
    "from sklearn.preprocessing import OrdinalEncoder\n",
    "from xgboost import XGBRegressor\n"
   ]
  },
  {
   "cell_type": "markdown",
   "metadata": {
    "id": "_ReewIQv3-0s"
   },
   "source": [
    "# Fichier d'entrée pour le modèle d'entraînement\n",
    "Ici, nous chargeons notre dataset et nous supprimons les lignes pour lesquelles notre variable cible (nombre de morts) est nulle"
   ]
  },
  {
   "cell_type": "code",
   "execution_count": 2,
   "metadata": {
    "colab": {
     "base_uri": "https://localhost:8080/"
    },
    "executionInfo": {
     "elapsed": 266,
     "status": "ok",
     "timestamp": 1714798402723,
     "user": {
      "displayName": "Thierno Amadou Diallo",
      "userId": "03010582142303045952"
     },
     "user_tz": -120
    },
    "id": "pdnRPcBC3_jh",
    "outputId": "663bcf18-e150-4e38-ce22-018ab58df7b5"
   },
   "outputs": [
    {
     "name": "stdout",
     "output_type": "stream",
     "text": [
      "   year countryName  deaths  intervaldeath  injuries intervalinjuries  \\\n",
      "0  1926   Indonesia     NaN  Not specified       NaN    Not specified   \n",
      "1  1926   Nicaragua     NaN  Not specified       NaN    Not specified   \n",
      "2  1926       China     NaN  Not specified       NaN    Not specified   \n",
      "3  1926       Chile     NaN  Not specified       NaN    Not specified   \n",
      "4  1926     Albania     NaN  Not specified       NaN    Not specified   \n",
      "\n",
      "   damagemillionsdollars intervaldamagemillionsdollars  depth  intervaldepth  \\\n",
      "0                    NaN                 Not specified    NaN  Not specified   \n",
      "1                    NaN                 Not specified  135.0         50-410   \n",
      "2                    NaN                 Not specified    NaN  Not specified   \n",
      "3                    NaN                 Not specified   33.0          10-50   \n",
      "4                    NaN                 Not specified    NaN  Not specified   \n",
      "\n",
      "   ...  sealevelrise intervalsealevelrise  co2emissions    intervalco2  \\\n",
      "0  ...           NaN        Not specified           NaN  Not specified   \n",
      "1  ...           NaN        Not specified           NaN  Not specified   \n",
      "2  ...           NaN        Not specified           NaN  Not specified   \n",
      "3  ...           NaN        Not specified           NaN  Not specified   \n",
      "4  ...           NaN        Not specified           NaN  Not specified   \n",
      "\n",
      "   povertylevel intervalpovertylevel  populationdensity  \\\n",
      "0           NaN        Not specified                NaN   \n",
      "1           NaN        Not specified                NaN   \n",
      "2           NaN        Not specified                NaN   \n",
      "3           NaN        Not specified                NaN   \n",
      "4           NaN        Not specified                NaN   \n",
      "\n",
      "  intervalpopulationdensity  intensity sismicscore  \n",
      "0             Not specified        NaN    7.314553  \n",
      "1             Not specified        NaN    4.174387  \n",
      "2             Not specified        7.0    7.373374  \n",
      "3             Not specified        NaN    6.856462  \n",
      "4             Not specified       10.0    4.262680  \n",
      "\n",
      "[5 rows x 24 columns]\n",
      "1235\n"
     ]
    }
   ],
   "source": [
    "data = pd.read_csv(\"../data/human_and_material_consequences.csv\", sep=';')\n",
    "\n",
    "print(data.head())\n",
    "\n",
    "data = data.dropna(subset=['deaths'])\n",
    "\n",
    "print(len(data))\n"
   ]
  },
  {
   "cell_type": "markdown",
   "metadata": {
    "id": "HNRbDX5i5P6h"
   },
   "source": [
    "#Définiton des features et normalisation des données\n",
    "Nous définition nos ensembles d'entraînement et de test, nous avons fixer le paramètre random_state à 45 :\n"
   ]
  },
  {
   "cell_type": "code",
   "execution_count": 3,
   "metadata": {
    "executionInfo": {
     "elapsed": 426,
     "status": "ok",
     "timestamp": 1714798407218,
     "user": {
      "displayName": "Thierno Amadou Diallo",
      "userId": "03010582142303045952"
     },
     "user_tz": -120
    },
    "id": "IRaoQm5s5QtL"
   },
   "outputs": [],
   "source": [
    "features = data.drop(['deaths'], axis = 1)\n",
    "target = data['deaths']\n",
    "\n",
    "# Séparation des variables catégorielles et numériques\n",
    "categorical_cols = [col for col in features if data[col].dtype == 'object']\n",
    "numerical_cols = [col for col in features if data[col].dtype != 'object']\n",
    "\n",
    "X = features\n",
    "y = target\n",
    "\n",
    "# Normalisation des données numériques\n",
    "scaler = StandardScaler()\n",
    "X[numerical_cols] = scaler.fit_transform(X[numerical_cols])\n",
    "\n",
    "# Division des données en ensembles d'entraînement et de test\n",
    "X_train, X_test, y_train, y_test = train_test_split(features, target, test_size=0.2, random_state=45)\n"
   ]
  },
  {
   "cell_type": "markdown",
   "metadata": {
    "id": "gYXxeS_05ozy"
   },
   "source": [
    "#Transformation des variables catégorielles\n",
    "Les variables catégorielles pouvant être utilisées, nous avons éffectué du Ordinal Encoding sur ces variables afin de les transformer pour qu'elles soient mieux traitées par notre modèle."
   ]
  },
  {
   "cell_type": "code",
   "execution_count": 4,
   "metadata": {
    "executionInfo": {
     "elapsed": 632,
     "status": "ok",
     "timestamp": 1714798410500,
     "user": {
      "displayName": "Thierno Amadou Diallo",
      "userId": "03010582142303045952"
     },
     "user_tz": -120
    },
    "id": "a5r9oTwI5pMx"
   },
   "outputs": [],
   "source": [
    "cat_transformer = OrdinalEncoder(handle_unknown='use_encoded_value', unknown_value=-1)\n",
    "\n",
    "\n",
    "preprocessor = ColumnTransformer(\n",
    "    transformers=[\n",
    "        ('cat', cat_transformer, categorical_cols)\n",
    "    ], remainder='passthrough')\n",
    "\n"
   ]
  },
  {
   "cell_type": "markdown",
   "metadata": {
    "id": "i9tYOesw6Z8t"
   },
   "source": [
    "# Initialisation et entraînement du modèle\n",
    "Maintenant que nos différents ensembles sont prêt, nous pouvons initialiser notre modèle et l'entraîner, avec les hyperparamètres suivants :\n",
    "n_estimators = 50, learning_rate = 0.3"
   ]
  },
  {
   "cell_type": "code",
   "execution_count": 5,
   "metadata": {
    "colab": {
     "base_uri": "https://localhost:8080/"
    },
    "executionInfo": {
     "elapsed": 298,
     "status": "ok",
     "timestamp": 1714798413497,
     "user": {
      "displayName": "Thierno Amadou Diallo",
      "userId": "03010582142303045952"
     },
     "user_tz": -120
    },
    "id": "LvizoiqC6fYk",
    "outputId": "1b840867-2a6c-4aa9-da50-2b59e13a86a8"
   },
   "outputs": [
    {
     "name": "stdout",
     "output_type": "stream",
     "text": [
      "[ 1.35961655e+02  4.14097852e+03  3.63650246e+01  4.81308228e+02\n",
      "  2.28599097e+03  1.23553505e+02  2.11438135e+03  4.56609180e+03\n",
      "  6.42537460e+01  7.48400040e+01  3.30386086e+01  7.13953924e+00\n",
      "  8.12439117e+01  7.57547426e+00  4.43793714e-01  2.08165112e+01\n",
      "  1.78348007e+02  1.44543854e+02 -7.96820879e+00  3.44989853e+01\n",
      "  1.74791031e+01  5.83635979e+01  2.97673218e+02  8.19135925e+02\n",
      "  1.63473282e+02  1.89560819e+00  1.44389130e+02 -2.35289745e+01\n",
      " -1.72319202e+01  3.07319977e+02  1.92490576e+03  3.33715820e+01\n",
      "  3.20253247e+03  1.02088909e+01  4.50812187e+01  4.32423859e+02\n",
      "  9.57323837e+01  1.42097205e+03 -4.23931456e+00  1.86722702e+02\n",
      "  1.26282059e+02  1.01398407e+02  8.90985413e+01  7.60740967e+01\n",
      "  3.08652096e+01  2.35961323e+01  1.18891016e+04 -3.79903526e+01\n",
      "  2.97178268e+01  3.95796127e+01  3.24924202e+01 -4.19645966e+02\n",
      "  2.94977875e+01 -7.37246275e+00  3.50062158e+03  6.94990662e+02\n",
      "  2.68102356e+02  2.68039894e+00  1.69561387e+04  3.02564478e+00\n",
      "  1.54715820e+02  2.06231232e+02  4.23830070e+01  2.80321808e+01\n",
      "  6.11859207e+01  1.47793869e+02  4.77548370e+02  1.29085861e+02\n",
      "  1.38039221e+03  1.16673569e+02  1.11523155e+02  4.18887146e+02\n",
      " -4.92040110e+00  1.71911743e+02  2.68114300e+01 -5.15587158e+01\n",
      "  4.35874557e+01  3.25636368e+01  7.57547426e+00  1.17994530e+02\n",
      "  1.38659424e+03  1.80686588e+01  4.50240746e+01  2.70056812e+03\n",
      "  8.63993988e+01 -2.14293060e+01  3.79304123e+01 -7.64447174e+01\n",
      "  4.96257973e+01 -6.45251526e+02  2.97874203e+01  3.28710034e+03\n",
      "  1.69671035e+04 -1.41602135e+00  9.81926270e+01  3.78036591e+02\n",
      "  1.27905624e+02  2.53927628e+02  5.49211044e+01  3.90933571e+01\n",
      "  2.82996246e+02  1.88469421e+02  2.57010269e+01  2.87725792e+01\n",
      "  4.99988556e+01  4.99750595e+01  3.22679169e+02  3.46553784e+03\n",
      "  1.76334119e+03  3.91519836e+02  3.14722519e+01  2.37867700e+03\n",
      "  4.09015808e+01  1.32014221e+02  1.81381409e+03 -5.90513468e+00\n",
      "  1.62893369e+04  2.13646338e+03  4.82258835e+01  3.73057617e+02\n",
      "  1.01425186e+02  1.18046333e+02  2.14087988e+04 -2.14293060e+01\n",
      "  5.71333618e+01  2.78849449e+01  5.11487579e+02  1.34104980e+02\n",
      "  7.54411469e+01  2.70784271e+02  1.36862564e+02  4.09015808e+01\n",
      " -1.25525961e+01  1.15959297e+02  1.02077805e+02  4.03436966e+01\n",
      "  1.98970251e+03  3.92506332e+01  5.81990738e+01  6.10991249e+01\n",
      " -4.23931456e+00  3.55811963e+03 -1.86537933e+01  4.11142029e+02\n",
      " -2.94593668e+00  1.01684875e+01  2.94380836e+01  5.57751617e+01\n",
      "  1.79030323e+01  3.92914848e+01 -7.07243729e+01  1.04989262e+01\n",
      "  6.26740952e+01  3.61052437e+01  1.57934675e+01  6.44648743e+01\n",
      "  7.52604599e+01  1.05794548e+02 -5.10713158e+01 -1.19150734e+00\n",
      "  1.17509644e+03  1.74791031e+01  4.96110742e+03  3.87623444e+02\n",
      " -7.18439054e+00  9.36971951e+00  1.05071915e+02  1.09839277e+04\n",
      "  3.27311602e+04  4.85392799e+01 -4.43362366e+02  1.88179901e+02\n",
      "  2.22101934e+04 -3.03138447e+01  7.36145401e+01 -4.23931456e+00\n",
      "  8.22268906e+01  2.32008991e+01  5.61111526e+01  5.76606348e+03\n",
      "  6.66792236e+02  8.04895248e+01  1.45199783e+02  4.11630707e+01\n",
      "  2.69754336e+04  9.32742157e+01 -4.63117371e+01  7.97237015e+01\n",
      "  4.69893372e+02  8.11791321e+02  4.35336456e+01  6.12213318e+02\n",
      "  2.59986108e+03  2.74010277e+00  8.23442650e+00  2.44552539e+03\n",
      "  1.74791031e+01 -1.19150734e+00  8.75269794e+00  2.06048660e+01\n",
      "  4.46385689e+01  8.13771515e+01  1.45080307e+02 -7.87847281e-01\n",
      "  7.82345581e+01  5.23237366e+02 -3.52534103e+01  9.02544861e+01\n",
      "  2.33440625e+04  2.12478104e+02  6.62764893e+01  1.60290833e+01\n",
      "  7.46433411e+01  1.43608322e+02  1.34807526e+02  1.04464508e+02\n",
      "  2.68265564e+02  1.13441839e+01  4.69448624e+01  3.72396240e+01\n",
      "  1.38562393e+01  2.53683105e+03  8.38075195e+02  6.34415817e+01\n",
      "  5.55224426e+02  3.43208862e+02  3.23083594e+04 -1.19150734e+00\n",
      "  1.03290276e+02  4.46385689e+01  1.74127846e+01  4.19885864e+02\n",
      "  4.20981331e+01  2.73693142e+01  1.66691513e+02  9.16585922e+01\n",
      "  7.06111938e+02  5.86105394e+00  1.65948639e+01  1.58887568e+01\n",
      "  2.74834366e+01  5.55212440e+01  2.85604419e+03  1.71171216e+03\n",
      "  1.74791031e+01  5.85214844e+01  1.37963776e+02]\n"
     ]
    }
   ],
   "source": [
    "X_train = preprocessor.fit_transform(X_train)\n",
    "X_test = preprocessor.transform(X_test)\n",
    "\n",
    "model = XGBRegressor(n_estimators = 50, learning_rate = 0.3)\n",
    "model.fit(X_train, y_train)\n",
    "\n",
    "# Prédiction sur l'ensemble de test\n",
    "y_pred = model.predict(X_test)\n",
    "\n",
    "print(y_pred)\n"
   ]
  },
  {
   "cell_type": "markdown",
   "metadata": {
    "id": "VxtnxClK62EZ"
   },
   "source": [
    "# Evalutation du modèle\n",
    "Maintenant que notre modèle a été initialiser et entraîner, il est temps d'évaluer ses performances"
   ]
  },
  {
   "cell_type": "code",
   "execution_count": 6,
   "metadata": {
    "colab": {
     "base_uri": "https://localhost:8080/"
    },
    "executionInfo": {
     "elapsed": 387,
     "status": "ok",
     "timestamp": 1714798419702,
     "user": {
      "displayName": "Thierno Amadou Diallo",
      "userId": "03010582142303045952"
     },
     "user_tz": -120
    },
    "id": "ZFtBz1v368ZU",
    "outputId": "267d075e-1978-4b1b-bacf-c1d9d6d183de"
   },
   "outputs": [
    {
     "name": "stdout",
     "output_type": "stream",
     "text": [
      "Mean Absolute Error: 685.3697058568116\n",
      "R2 Score: 0.7608671352774024\n"
     ]
    }
   ],
   "source": [
    "# Évaluation de la performance du modèle\n",
    "mae = mean_absolute_error(y_test, y_pred)\n",
    "print(\"Mean Absolute Error:\", mae)\n",
    "\n",
    "r2 = r2_score(y_test, y_pred)\n",
    "print(\"R2 Score:\", r2)\n"
   ]
  },
  {
   "cell_type": "markdown",
   "metadata": {
    "id": "CZoT3SeA6-1U"
   },
   "source": [
    "#Visualisation\n",
    "Nous pouvons visualiser les valeurs prédites par notre modèle par rapport aux valeurs réelles afin de mieux évaluer les performances du modèle"
   ]
  },
  {
   "cell_type": "code",
   "execution_count": 7,
   "metadata": {
    "colab": {
     "base_uri": "https://localhost:8080/",
     "height": 564
    },
    "executionInfo": {
     "elapsed": 939,
     "status": "ok",
     "timestamp": 1714798423170,
     "user": {
      "displayName": "Thierno Amadou Diallo",
      "userId": "03010582142303045952"
     },
     "user_tz": -120
    },
    "id": "7lCZ4JPJ6_3M",
    "outputId": "e212952f-b09b-433a-eefa-0107c0a7ed44"
   },
   "outputs": [
    {
     "data": {
      "image/png": "[encoded data removed]",
      "text/plain": [
       "<Figure size 800x600 with 1 Axes>"
      ]
     },
     "metadata": {},
     "output_type": "display_data"
    }
   ],
   "source": [
    "# Visualisation des valeurs prédites par rapport aux valeurs réelles\n",
    "plt.figure(figsize=(8, 6))\n",
    "plt.scatter(y_test, y_pred, color='blue', label='Valeurs Prédites')\n",
    "plt.scatter(y_test, y_test, color='red', label='Valeurs Réelles')\n",
    "plt.title('Nombre de morts : Valeurs Prédites vs Valeurs Réelles')\n",
    "plt.xlabel('Valeurs Réelles')\n",
    "plt.ylabel('Valeurs Prédites')\n",
    "plt.legend()\n",
    "plt.show()\n"
   ]
  }
 ],
 "metadata": {
  "colab": {
   "authorship_tag": "ABX9TyOTitsnPJOkhpX5+Ct1nQjB",
   "provenance": []
  },
  "kernelspec": {
   "display_name": "Python 3",
   "name": "python3"
  },
  "language_info": {
   "name": "python"
  }
 },
 "nbformat": 4,
 "nbformat_minor": 0
}
