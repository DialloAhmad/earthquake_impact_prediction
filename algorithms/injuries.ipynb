{
 "cells": [
  {
   "cell_type": "markdown",
   "metadata": {
    "id": "nW1DQtlH2Prm"
   },
   "source": [
    "# HistGradientBoostingRegressor\n",
    "Pour ce besoin qui consiste à prédire les consénquences humaines (nombre de morts et nombre de blessés) et matérielles (dommages en millions de dollars) des tremblements de terre, nous avons choisi d'utiliser le modèle Hist Gradient Boosting Regressor, pour sa capacité d'accepter les valeurs nulles étant donné nos données comportent beaucoup de valeurs nulles.\n"
   ]
  },
  {
   "cell_type": "markdown",
   "metadata": {
    "id": "ZCB0NDuk4waX"
   },
   "source": [
    "# Ce modèle vise à prédire le nombre de blessés des séismes"
   ]
  },
  {
   "cell_type": "markdown",
   "metadata": {
    "id": "BuUFhwJ03tgh"
   },
   "source": [
    "#Tout d'abord, les librairies ci-dessous sont nécessaires pour le fonctionnement du modèle :"
   ]
  },
  {
   "cell_type": "code",
   "execution_count": 1,
   "metadata": {
    "executionInfo": {
     "elapsed": 6079,
     "status": "ok",
     "timestamp": 1714946436692,
     "user": {
      "displayName": "Thierno Amadou Diallo",
      "userId": "03010582142303045952"
     },
     "user_tz": -120
    },
    "id": "GHPn5Llc1ueP"
   },
   "outputs": [],
   "source": [
    "import pandas as pd\n",
    "from sklearn.preprocessing import StandardScaler\n",
    "from sklearn.model_selection import train_test_split\n",
    "from sklearn.metrics import mean_absolute_error, r2_score\n",
    "import matplotlib.pyplot as plt\n",
    "from sklearn.compose import ColumnTransformer\n",
    "from sklearn.ensemble import HistGradientBoostingRegressor\n",
    "from sklearn.preprocessing import OrdinalEncoder\n"
   ]
  },
  {
   "cell_type": "markdown",
   "metadata": {
    "id": "_ReewIQv3-0s"
   },
   "source": [
    "# Fichier d'entrée pour le modèle d'entraînement\n",
    "Ici, nous chargeons notre dataset et nous supprimons les lignes pour lesquelles notre variable cible (nombre de morts) est nulle"
   ]
  },
  {
   "cell_type": "code",
   "execution_count": 2,
   "metadata": {
    "colab": {
     "base_uri": "https://localhost:8080/"
    },
    "executionInfo": {
     "elapsed": 826,
     "status": "ok",
     "timestamp": 1714946439255,
     "user": {
      "displayName": "Thierno Amadou Diallo",
      "userId": "03010582142303045952"
     },
     "user_tz": -120
    },
    "id": "pdnRPcBC3_jh",
    "outputId": "42629d66-3d75-4c08-d083-73a25fb160f8"
   },
   "outputs": [
    {
     "name": "stdout",
     "output_type": "stream",
     "text": [
      "   year countryName  deaths  intervaldeath  injuries intervalinjuries  \\\n",
      "0  1926   Indonesia     NaN  Not specified       NaN    Not specified   \n",
      "1  1926   Nicaragua     NaN  Not specified       NaN    Not specified   \n",
      "2  1926       China     NaN  Not specified       NaN    Not specified   \n",
      "3  1926       Chile     NaN  Not specified       NaN    Not specified   \n",
      "4  1926     Albania     NaN  Not specified       NaN    Not specified   \n",
      "\n",
      "   damagemillionsdollars intervaldamagemillionsdollars  depth  intervaldepth  \\\n",
      "0                    NaN                 Not specified    NaN  Not specified   \n",
      "1                    NaN                 Not specified  135.0         50-410   \n",
      "2                    NaN                 Not specified    NaN  Not specified   \n",
      "3                    NaN                 Not specified   33.0          10-50   \n",
      "4                    NaN                 Not specified    NaN  Not specified   \n",
      "\n",
      "   ...  sealevelrise intervalsealevelrise  co2emissions    intervalco2  \\\n",
      "0  ...           NaN        Not specified           NaN  Not specified   \n",
      "1  ...           NaN        Not specified           NaN  Not specified   \n",
      "2  ...           NaN        Not specified           NaN  Not specified   \n",
      "3  ...           NaN        Not specified           NaN  Not specified   \n",
      "4  ...           NaN        Not specified           NaN  Not specified   \n",
      "\n",
      "   povertylevel intervalpovertylevel  populationdensity  \\\n",
      "0           NaN        Not specified                NaN   \n",
      "1           NaN        Not specified                NaN   \n",
      "2           NaN        Not specified                NaN   \n",
      "3           NaN        Not specified                NaN   \n",
      "4           NaN        Not specified                NaN   \n",
      "\n",
      "  intervalpopulationdensity  intensity sismicscore  \n",
      "0             Not specified        NaN    7.314553  \n",
      "1             Not specified        NaN    4.174387  \n",
      "2             Not specified        7.0    7.373374  \n",
      "3             Not specified        NaN    6.856462  \n",
      "4             Not specified       10.0    4.262680  \n",
      "\n",
      "[5 rows x 24 columns]\n",
      "759\n"
     ]
    }
   ],
   "source": [
    "data = pd.read_csv(\"../data/human_and_material_consequences.csv\", sep=';')\n",
    "\n",
    "print(data.head())\n",
    "\n",
    "data = data.dropna(subset=['injuries'])\n",
    "\n",
    "print(len(data))\n"
   ]
  },
  {
   "cell_type": "markdown",
   "metadata": {
    "id": "HNRbDX5i5P6h"
   },
   "source": [
    "#Définiton des features et normalisation des données\n",
    "Nous définition nos ensembles d'entraînement et de test, nous avons fixer le paramètre random_state à 45 :\n"
   ]
  },
  {
   "cell_type": "code",
   "execution_count": 3,
   "metadata": {
    "executionInfo": {
     "elapsed": 224,
     "status": "ok",
     "timestamp": 1714946442894,
     "user": {
      "displayName": "Thierno Amadou Diallo",
      "userId": "03010582142303045952"
     },
     "user_tz": -120
    },
    "id": "IRaoQm5s5QtL"
   },
   "outputs": [],
   "source": [
    "features = data.drop(['injuries'], axis = 1)\n",
    "target = data['injuries']\n",
    "\n",
    "# Séparation des variables catégorielles et numériques\n",
    "categorical_cols = [col for col in features if data[col].dtype == 'object']\n",
    "numerical_cols = [col for col in features if data[col].dtype != 'object']\n",
    "\n",
    "X = features\n",
    "y = target\n",
    "\n",
    "# Normalisation des données numériques\n",
    "scaler = StandardScaler()\n",
    "X[numerical_cols] = scaler.fit_transform(X[numerical_cols])\n",
    "\n",
    "# Division des données en ensembles d'entraînement et de test\n",
    "X_train, X_test, y_train, y_test = train_test_split(features, target, test_size=0.2, random_state=45)\n"
   ]
  },
  {
   "cell_type": "markdown",
   "metadata": {
    "id": "gYXxeS_05ozy"
   },
   "source": [
    "#Transformation des variables catégorielles\n",
    "Les variables catégorielles pouvant être utilisées, nous avons éffectué du Ordinal Encoding sur ces variables afin de les transformer pour qu'elles soient mieux traitées par notre modèle."
   ]
  },
  {
   "cell_type": "code",
   "execution_count": null,
   "metadata": {
    "id": "a5r9oTwI5pMx"
   },
   "outputs": [],
   "source": [
    "cat_transformer = OrdinalEncoder(handle_unknown='use_encoded_value', unknown_value=-1)\n",
    "\n",
    "\n",
    "preprocessor = ColumnTransformer(\n",
    "    transformers=[\n",
    "        ('cat', cat_transformer, categorical_cols)\n",
    "    ], remainder='passthrough')\n",
    "\n"
   ]
  },
  {
   "cell_type": "markdown",
   "metadata": {
    "id": "i9tYOesw6Z8t"
   },
   "source": [
    "# Initialisation et entraînement du modèle\n",
    "Maintenant que nos différents ensembles sont prêt, nous pouvons initialiser notre modèle et l'entraîner, avec les hyperparamètres suivants :\n",
    "loss=\"absolute_error\", l2_regularization = 0.0004, max_iter= 165, max_leaf_nodes= 15, min_samples_leaf= 10"
   ]
  },
  {
   "cell_type": "code",
   "execution_count": null,
   "metadata": {
    "colab": {
     "base_uri": "https://localhost:8080/"
    },
    "executionInfo": {
     "elapsed": 2294,
     "status": "ok",
     "timestamp": 1714798688473,
     "user": {
      "displayName": "Thierno Amadou Diallo",
      "userId": "03010582142303045952"
     },
     "user_tz": -120
    },
    "id": "LvizoiqC6fYk",
    "outputId": "97b06741-c334-46c3-e06b-5462a23793db"
   },
   "outputs": [
    {
     "name": "stdout",
     "output_type": "stream",
     "text": [
      "[-9.52609522e+00  3.11842171e+01  1.34112152e+01  2.17557649e+02\n",
      "  2.77098027e+03  2.85391217e+03  1.44439567e+02  2.10822206e+01\n",
      "  2.37949663e+01  1.62320337e+01  9.21552299e+02  4.49039561e+00\n",
      "  9.05950869e+02  1.97330268e+01  2.46370456e+02  8.75895645e+01\n",
      "  2.61274479e+02  4.70392193e+02  9.24500263e+02  2.48982898e+02\n",
      "  2.14526128e+01  3.30536874e+02  4.36135902e+01  2.62800406e+03\n",
      "  1.98323241e+04  5.01713585e+02  3.17393626e+01  3.35103446e+01\n",
      "  1.08783452e+03  2.07350792e+02  8.92378478e+01  2.10354608e+02\n",
      "  7.42227878e+02  9.72639121e+00  3.29259544e+01  1.55445884e+02\n",
      "  1.60876234e+02  1.46461624e+02  1.87757327e+03  1.46604020e+02\n",
      "  2.37323724e+01  7.10633808e+03  3.88613862e+00  1.53993826e+01\n",
      "  3.51125288e+01  7.13688153e+01  1.43924714e+01  1.17671043e+01\n",
      "  2.16586416e+01  1.95167723e+00  1.10618849e+02  1.35555267e+02\n",
      "  1.65543735e+04  3.51297607e+01  7.23577302e+02  1.59509373e+02\n",
      "  3.09822080e+04  1.52783694e+01  1.33160984e+02  9.99662773e+00\n",
      "  2.10911280e+02  1.36754855e+01  2.55175634e+01  1.23255137e+02\n",
      "  2.37819354e+01  2.77135292e+01  1.65215197e+02  3.01356020e+03\n",
      "  1.94162982e+02  4.60310133e+01  1.69892703e+02  6.81131560e+03\n",
      "  8.49141056e+01  7.90545085e+02  4.03845533e+03  4.02038713e+01\n",
      "  1.94720717e+01  1.31030990e+02  2.19705870e+02  2.70372693e+03\n",
      "  1.64684547e+01  3.83875348e+01  1.72763655e+01  1.54006510e+02\n",
      "  1.94080135e+01  1.40578891e+01  1.72432356e+02  2.29058729e+01\n",
      "  7.12597181e+02  1.56307301e+02  9.54415337e+00  2.64490760e+03\n",
      "  8.29929016e+00  5.34220044e+00  1.63767859e+01  1.58445871e+01\n",
      "  6.56640000e+00  2.58552413e+01  1.36796452e+02  2.89354590e+00\n",
      "  1.59021420e+01  3.49175398e+02  1.81016913e+01  4.14946233e+00\n",
      "  1.98247169e+01  1.89809442e+01  9.52199451e+00  5.04506969e+00\n",
      "  3.48702729e+01  2.02187662e+01  1.77488793e+02  4.74267434e+03\n",
      "  1.05931886e+01  6.81252395e+03  1.97283329e+01  7.00699952e+02\n",
      "  1.60312379e+02  1.62820185e+01 -5.26344586e+00  5.79524517e+03\n",
      "  7.33227748e+02  2.66038877e+04  2.37317561e+01  4.02616361e+01\n",
      "  4.97921328e+03  1.45494880e+01  1.42508045e+02  1.92892997e+02\n",
      "  3.46698077e+02  1.31699398e+03  5.56056990e+02  1.79351519e+01\n",
      "  5.77099010e+02  8.74064554e+00  4.76317961e+03  1.57749960e+02\n",
      "  6.94190592e+03  3.10311164e+01  1.19689530e+02  2.14257007e+02\n",
      "  1.54454199e+02  7.06559137e+02  5.66340938e+00  4.13206322e+01\n",
      "  2.25417146e+02  2.39192378e+01  1.71199921e+02  6.23331102e+03\n",
      "  2.66923427e+01  8.67718653e+00  1.33577576e+01 -7.58502589e-01]\n"
     ]
    }
   ],
   "source": [
    "X_train = preprocessor.fit_transform(X_train)\n",
    "X_test = preprocessor.transform(X_test)\n",
    "\n",
    "model = HistGradientBoostingRegressor(loss=\"absolute_error\", l2_regularization = 0.0004,\n",
    "                                      max_iter= 165, max_leaf_nodes= 15, min_samples_leaf= 10)\n",
    "model.fit(X_train, y_train)\n",
    "\n",
    "# Prédiction sur l'ensemble de test\n",
    "y_pred = model.predict(X_test)\n",
    "\n",
    "print(y_pred)\n"
   ]
  },
  {
   "cell_type": "markdown",
   "metadata": {
    "id": "VxtnxClK62EZ"
   },
   "source": [
    "# Evalutation du modèle\n",
    "Maintenant que notre modèle a été initialiser et entraîner, il est temps d'évaluer ses performances"
   ]
  },
  {
   "cell_type": "code",
   "execution_count": null,
   "metadata": {
    "colab": {
     "base_uri": "https://localhost:8080/"
    },
    "executionInfo": {
     "elapsed": 309,
     "status": "ok",
     "timestamp": 1714798693101,
     "user": {
      "displayName": "Thierno Amadou Diallo",
      "userId": "03010582142303045952"
     },
     "user_tz": -120
    },
    "id": "ZFtBz1v368ZU",
    "outputId": "3a748126-a6a1-4b04-a475-bcc6e4d5a751"
   },
   "outputs": [
    {
     "name": "stdout",
     "output_type": "stream",
     "text": [
      "Mean Absolute Error: 1015.5257237215606\n",
      "R2 Score: 0.62831682921165\n"
     ]
    }
   ],
   "source": [
    "# Évaluation de la performance du modèle\n",
    "mae = mean_absolute_error(y_test, y_pred)\n",
    "print(\"Mean Absolute Error:\", mae)\n",
    "\n",
    "r2 = r2_score(y_test, y_pred)\n",
    "print(\"R2 Score:\", r2)\n"
   ]
  },
  {
   "cell_type": "markdown",
   "metadata": {
    "id": "CZoT3SeA6-1U"
   },
   "source": [
    "#Visualisation\n",
    "Nous pouvons visualiser les valeurs prédites par notre modèle par rapport aux valeurs réelles afin de mieux évaluer les performances du modèle"
   ]
  },
  {
   "cell_type": "code",
   "execution_count": null,
   "metadata": {
    "colab": {
     "base_uri": "https://localhost:8080/",
     "height": 564
    },
    "executionInfo": {
     "elapsed": 890,
     "status": "ok",
     "timestamp": 1714798697077,
     "user": {
      "displayName": "Thierno Amadou Diallo",
      "userId": "03010582142303045952"
     },
     "user_tz": -120
    },
    "id": "7lCZ4JPJ6_3M",
    "outputId": "3ff5f5ad-59d2-4f75-b60d-26b1bbbddb73"
   },
   "outputs": [
    {
     "data": {
      "image/png": "[encoded data removed]",
      "text/plain": [
       "<Figure size 800x600 with 1 Axes>"
      ]
     },
     "metadata": {},
     "output_type": "display_data"
    }
   ],
   "source": [
    "# Visualisation des valeurs prédites par rapport aux valeurs réelles\n",
    "plt.figure(figsize=(8, 6))\n",
    "plt.scatter(y_test, y_pred, color='blue', label='Valeurs Prédites')\n",
    "plt.scatter(y_test, y_test, color='red', label='Valeurs Réelles')\n",
    "plt.title('Nombre de blésses : Valeurs Prédites vs Valeurs Réelles')\n",
    "plt.xlabel('Valeurs Réelles')\n",
    "plt.ylabel('Valeurs Prédites')\n",
    "plt.legend()\n",
    "plt.show()\n"
   ]
  }
 ],
 "metadata": {
  "colab": {
   "authorship_tag": "ABX9TyN26q9QfvHt+B2BhHd9ibZI",
   "provenance": []
  },
  "kernelspec": {
   "display_name": "Python 3",
   "name": "python3"
  },
  "language_info": {
   "name": "python"
  }
 },
 "nbformat": 4,
 "nbformat_minor": 0
}
