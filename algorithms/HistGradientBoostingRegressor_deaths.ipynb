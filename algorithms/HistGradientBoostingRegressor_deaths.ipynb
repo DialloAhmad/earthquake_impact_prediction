{
 "cells": [
  {
   "cell_type": "markdown",
   "metadata": {
    "id": "nW1DQtlH2Prm"
   },
   "source": [
    "# HistGradientBoostingRegressor\n",
    "Pour ce besoin qui consiste à prédire les consénquences humaines (nombre de morts et nombre de blessés) et matérielles (dommages en millions de dollars) des tremblements de terre, nous avons choisi d'utiliser le modèle Hist Gradient Boosting Regressor, pour sa capacité d'accepter les valeurs nulles étant donné nos données comportent beaucoup de valeurs nulles.\n"
   ]
  },
  {
   "cell_type": "markdown",
   "metadata": {
    "id": "ZCB0NDuk4waX"
   },
   "source": [
    "# Ce modèle vise à prédire le nombre de morts des séismes"
   ]
  },
  {
   "cell_type": "markdown",
   "metadata": {
    "id": "BuUFhwJ03tgh"
   },
   "source": [
    "#Tout d'abord, les librairies ci-dessous sont nécessaires pour le fonctionnement du modèle :"
   ]
  },
  {
   "cell_type": "code",
   "execution_count": 3,
   "metadata": {
    "executionInfo": {
     "elapsed": 3827,
     "status": "ok",
     "timestamp": 1714815021868,
     "user": {
      "displayName": "Thierno Amadou Diallo",
      "userId": "03010582142303045952"
     },
     "user_tz": -120
    },
    "id": "GHPn5Llc1ueP"
   },
   "outputs": [],
   "source": [
    "import pandas as pd\n",
    "from sklearn.preprocessing import StandardScaler\n",
    "from sklearn.model_selection import train_test_split\n",
    "from sklearn.metrics import mean_absolute_error, r2_score\n",
    "import matplotlib.pyplot as plt\n",
    "from sklearn.compose import ColumnTransformer\n",
    "from sklearn.ensemble import HistGradientBoostingRegressor\n",
    "from sklearn.preprocessing import OrdinalEncoder\n"
   ]
  },
  {
   "cell_type": "markdown",
   "metadata": {
    "id": "_ReewIQv3-0s"
   },
   "source": [
    "# Fichier d'entrée pour le modèle d'entraînement\n",
    "Ici, nous chargeons notre dataset et nous supprimons les lignes pour lesquelles notre variable cible (nombre de morts) est nulle"
   ]
  },
  {
   "cell_type": "code",
   "execution_count": 4,
   "metadata": {
    "colab": {
     "base_uri": "https://localhost:8080/"
    },
    "executionInfo": {
     "elapsed": 257,
     "status": "ok",
     "timestamp": 1714815025240,
     "user": {
      "displayName": "Thierno Amadou Diallo",
      "userId": "03010582142303045952"
     },
     "user_tz": -120
    },
    "id": "pdnRPcBC3_jh",
    "outputId": "f1c503a1-bf74-49b0-dcd3-d968dd5c664d"
   },
   "outputs": [
    {
     "name": "stdout",
     "output_type": "stream",
     "text": [
      "   year countryName  deaths  intervaldeath  injuries intervalinjuries  \\\n",
      "0  1926   Indonesia     NaN  Not specified       NaN    Not specified   \n",
      "1  1926   Nicaragua     NaN  Not specified       NaN    Not specified   \n",
      "2  1926       China     NaN  Not specified       NaN    Not specified   \n",
      "3  1926       Chile     NaN  Not specified       NaN    Not specified   \n",
      "4  1926     Albania     NaN  Not specified       NaN    Not specified   \n",
      "\n",
      "   damagemillionsdollars intervaldamagemillionsdollars  depth  intervaldepth  \\\n",
      "0                    NaN                 Not specified    NaN  Not specified   \n",
      "1                    NaN                 Not specified  135.0         50-410   \n",
      "2                    NaN                 Not specified    NaN  Not specified   \n",
      "3                    NaN                 Not specified   33.0          10-50   \n",
      "4                    NaN                 Not specified    NaN  Not specified   \n",
      "\n",
      "   ...  sealevelrise intervalsealevelrise  co2emissions    intervalco2  \\\n",
      "0  ...           NaN        Not specified           NaN  Not specified   \n",
      "1  ...           NaN        Not specified           NaN  Not specified   \n",
      "2  ...           NaN        Not specified           NaN  Not specified   \n",
      "3  ...           NaN        Not specified           NaN  Not specified   \n",
      "4  ...           NaN        Not specified           NaN  Not specified   \n",
      "\n",
      "   povertylevel intervalpovertylevel  populationdensity  \\\n",
      "0           NaN        Not specified                NaN   \n",
      "1           NaN        Not specified                NaN   \n",
      "2           NaN        Not specified                NaN   \n",
      "3           NaN        Not specified                NaN   \n",
      "4           NaN        Not specified                NaN   \n",
      "\n",
      "  intervalpopulationdensity  intensity sismicscore  \n",
      "0             Not specified        NaN    7.314553  \n",
      "1             Not specified        NaN    4.174387  \n",
      "2             Not specified        7.0    7.373374  \n",
      "3             Not specified        NaN    6.856462  \n",
      "4             Not specified       10.0    4.262680  \n",
      "\n",
      "[5 rows x 24 columns]\n",
      "1235\n"
     ]
    }
   ],
   "source": [
    "data = pd.read_csv(\"../data/human_and_material_consequences.csv\", sep=';')\n",
    "\n",
    "print(data.head())\n",
    "\n",
    "data = data.dropna(subset=['deaths'])\n",
    "\n",
    "print(len(data))\n"
   ]
  },
  {
   "cell_type": "markdown",
   "metadata": {
    "id": "HNRbDX5i5P6h"
   },
   "source": [
    "#Définiton des features et normalisation des données\n",
    "Nous définition nos ensembles d'entraînement et de test, nous avons fixer le paramètre random_state à 45 :\n"
   ]
  },
  {
   "cell_type": "code",
   "execution_count": 5,
   "metadata": {
    "executionInfo": {
     "elapsed": 260,
     "status": "ok",
     "timestamp": 1714815030177,
     "user": {
      "displayName": "Thierno Amadou Diallo",
      "userId": "03010582142303045952"
     },
     "user_tz": -120
    },
    "id": "IRaoQm5s5QtL"
   },
   "outputs": [],
   "source": [
    "features = data.drop(['deaths'], axis = 1)\n",
    "target = data['deaths']\n",
    "\n",
    "# Séparation des variables catégorielles et numériques\n",
    "categorical_cols = [col for col in features if data[col].dtype == 'object']\n",
    "numerical_cols = [col for col in features if data[col].dtype != 'object']\n",
    "\n",
    "X = features\n",
    "y = target\n",
    "\n",
    "# Normalisation des données numériques\n",
    "scaler = StandardScaler()\n",
    "X[numerical_cols] = scaler.fit_transform(X[numerical_cols])\n",
    "\n",
    "# Division des données en ensembles d'entraînement et de test\n",
    "X_train, X_test, y_train, y_test = train_test_split(features, target, test_size=0.2, random_state=45)\n"
   ]
  },
  {
   "cell_type": "markdown",
   "metadata": {
    "id": "gYXxeS_05ozy"
   },
   "source": [
    "#Transformation des variables catégorielles\n",
    "Les variables catégorielles pouvant être utilisées, nous avons éffectué du Ordinal Encoding sur ces variables afin de les transformer pour qu'elles soient mieux traitées par notre modèle."
   ]
  },
  {
   "cell_type": "code",
   "execution_count": 6,
   "metadata": {
    "executionInfo": {
     "elapsed": 277,
     "status": "ok",
     "timestamp": 1714815033905,
     "user": {
      "displayName": "Thierno Amadou Diallo",
      "userId": "03010582142303045952"
     },
     "user_tz": -120
    },
    "id": "a5r9oTwI5pMx"
   },
   "outputs": [],
   "source": [
    "cat_transformer = OrdinalEncoder(handle_unknown='use_encoded_value', unknown_value=-1)\n",
    "\n",
    "\n",
    "preprocessor = ColumnTransformer(\n",
    "    transformers=[\n",
    "        ('cat', cat_transformer, categorical_cols)\n",
    "    ], remainder='passthrough')\n",
    "\n"
   ]
  },
  {
   "cell_type": "markdown",
   "metadata": {
    "id": "i9tYOesw6Z8t"
   },
   "source": [
    "# Initialisation et entraînement du modèle\n",
    "Maintenant que nos différents ensembles sont prêt, nous pouvons initialiser notre modèle et l'entraîner, avec les hyperparamètres suivants :\n",
    "loss=\"absolute_error\", l2_regularization = 0.0004, max_iter= 165, max_leaf_nodes= 15, min_samples_leaf= 10"
   ]
  },
  {
   "cell_type": "code",
   "execution_count": null,
   "metadata": {
    "colab": {
     "base_uri": "https://localhost:8080/"
    },
    "executionInfo": {
     "elapsed": 1929,
     "status": "ok",
     "timestamp": 1714798195966,
     "user": {
      "displayName": "Thierno Amadou Diallo",
      "userId": "03010582142303045952"
     },
     "user_tz": -120
    },
    "id": "LvizoiqC6fYk",
    "outputId": "6aa9ee7e-a85f-405a-eeac-fc7cc6bbbc81"
   },
   "outputs": [
    {
     "name": "stdout",
     "output_type": "stream",
     "text": [
      "[8.89430577e+02 2.07275308e+03 1.99999990e+00 4.04793187e+02\n",
      " 5.15420804e+03 9.00810070e+02 1.17306036e+03 2.22100457e+03\n",
      " 4.00000000e+00 1.99999990e+00 6.00000000e+00 1.00000099e+00\n",
      " 2.74811129e+02 1.99999990e+00 1.00000099e+00 1.00000099e+00\n",
      " 1.99999990e+00 7.31224587e+01 1.00000099e+00 2.41369900e+01\n",
      " 5.00007466e+00 4.00000000e+00 1.92229112e+02 2.76494134e+02\n",
      " 4.68631127e+01 2.97774206e+00 9.19400295e+01 4.00000000e+00\n",
      " 2.97774206e+00 1.41245030e+02 5.16272879e+03 1.97706338e+01\n",
      " 5.10117326e+03 1.00000099e+00 1.99999990e+00 8.99999987e+00\n",
      " 1.00000099e+00 1.56400276e+03 1.00000099e+00 2.97774206e+00\n",
      " 3.05628111e+01 1.00009738e+01 1.99999990e+00 4.48088452e+02\n",
      " 6.99639778e+00 1.00000099e+00 9.99120465e+03 7.57550034e+01\n",
      " 4.00000000e+00 4.00000000e+00 2.97774206e+00 4.18794351e+01\n",
      " 1.20000000e+01 1.99999990e+00 1.22021664e+03 1.20000000e+01\n",
      " 4.86157141e+01 2.65443693e+01 2.30333504e+04 3.03602352e+01\n",
      " 1.99999990e+00 4.06007293e+01 2.21473754e+01 2.97774206e+00\n",
      " 1.00009738e+01 1.20000000e+01 5.00007466e+00 1.83411813e+02\n",
      " 2.19212468e+03 1.88166224e+01 1.96536842e+01 5.23426257e+01\n",
      " 1.00000099e+00 8.88652413e+01 1.10000000e+01 4.53526570e+01\n",
      " 1.00000099e+00 1.99999990e+00 1.00000099e+00 5.00007466e+00\n",
      " 1.33736211e+02 4.29372274e+01 4.52795341e+02 2.24638793e+03\n",
      " 4.51927166e+01 8.99999987e+00 1.00000099e+00 3.20665687e+02\n",
      " 1.99999990e+00 2.10887283e+01 1.00000099e+00 9.79799709e+03\n",
      " 1.19897185e+04 5.00007466e+00 4.30852008e+01 6.33232783e+02\n",
      " 1.00000099e+00 8.99999987e+00 2.08892617e+01 6.24705432e+01\n",
      " 4.38959280e+01 4.38707847e+02 2.97774206e+00 8.05474451e+01\n",
      " 1.81289093e+01 8.20944620e+01 1.99999990e+00 3.00059170e+03\n",
      " 3.00873423e+03 2.80026193e+02 1.00000099e+00 1.23078514e+03\n",
      " 6.99639778e+00 2.92288131e+02 1.68727440e+03 2.73820289e+02\n",
      " 2.98898419e+04 1.29022118e+03 4.00000000e+00 9.43921673e+01\n",
      " 1.00000099e+00 1.44875435e+02 9.96360853e+03 8.00000000e+00\n",
      " 2.97774206e+00 1.00000099e+00 8.15601993e+01 4.15388980e+02\n",
      " 6.46063835e+01 1.00000099e+00 1.00000099e+00 8.33913441e+01\n",
      " 2.97774206e+00 3.71264548e+01 4.44109486e+02 6.00000000e+00\n",
      " 1.18878813e+03 7.37339572e+01 2.97774206e+00 1.00000099e+00\n",
      " 5.00007466e+00 2.16059951e+03 1.99999990e+00 2.69083817e+01\n",
      " 1.99999990e+00 1.00000099e+00 1.99999990e+00 1.00000099e+00\n",
      " 1.34465624e+02 1.99999990e+00 1.95325446e+02 1.00000099e+00\n",
      " 6.23551879e+02 1.99999990e+00 1.00000099e+00 1.99999990e+00\n",
      " 2.78025107e+02 3.56773857e+01 8.89143789e+02 8.99999987e+00\n",
      " 1.19609130e+03 2.12521077e+01 4.05075131e+03 2.68924831e+02\n",
      " 1.99999990e+00 1.00000099e+00 1.41839869e+01 2.02180043e+04\n",
      " 2.99911255e+04 1.00000099e+00 2.54965070e+02 1.00009738e+01\n",
      " 1.33317065e+04 1.99999990e+00 1.47071377e+01 1.37598626e+01\n",
      " 1.00000099e+00 1.99483503e+01 1.31305643e+02 1.16963912e+03\n",
      " 4.00330968e+01 2.72900008e+02 1.20000000e+01 1.99999990e+00\n",
      " 4.17874299e+04 1.00000099e+00 2.63071408e+01 1.99999990e+00\n",
      " 3.31958066e+01 4.35636153e+02 1.00000099e+00 6.48433029e+02\n",
      " 2.98345654e+03 2.75929168e+01 2.97774206e+00 9.56964501e+02\n",
      " 1.97220012e+01 1.00000099e+00 1.00000099e+00 1.00009738e+01\n",
      " 2.97774206e+00 9.00867957e+02 3.39561894e+01 4.12343273e+01\n",
      " 2.97774206e+00 4.55026860e+01 1.55655725e+02 4.00000000e+00\n",
      " 2.99690718e+04 3.64117296e+01 6.00000000e+00 1.00000099e+00\n",
      " 1.99999990e+00 3.22941860e+02 1.75274080e+01 2.81796188e+02\n",
      " 3.26428434e+01 1.00000099e+00 6.00000000e+00 1.92854564e+02\n",
      " 2.97774206e+00 9.64297678e+02 2.58511270e+02 3.90807732e+01\n",
      " 5.99123355e+01 9.49359716e+01 9.96460782e+03 1.00000099e+00\n",
      " 2.77198259e+02 1.13629026e+01 1.10000000e+01 1.94270243e+01\n",
      " 4.00000000e+00 1.99999990e+00 2.91710967e+02 9.82509176e+01\n",
      " 7.92017448e+01 1.69308094e+01 1.89701353e+01 5.00007466e+00\n",
      " 1.99999990e+00 2.03158726e+01 2.98323805e+03 3.74418177e+01\n",
      " 1.00000099e+00 3.94754191e+01 5.73862587e+01]\n"
     ]
    }
   ],
   "source": [
    "X_train = preprocessor.fit_transform(X_train)\n",
    "X_test = preprocessor.transform(X_test)\n",
    "\n",
    "model = HistGradientBoostingRegressor(loss=\"absolute_error\", l2_regularization = 0.0004,\n",
    "                                      max_iter= 165, max_leaf_nodes= 15, min_samples_leaf= 10)\n",
    "model.fit(X_train, y_train)\n",
    "\n",
    "# Prédiction sur l'ensemble de test\n",
    "y_pred = model.predict(X_test)\n",
    "\n",
    "print(y_pred)\n"
   ]
  },
  {
   "cell_type": "markdown",
   "metadata": {
    "id": "VxtnxClK62EZ"
   },
   "source": [
    "# Evalutation du modèle\n",
    "Maintenant que notre modèle a été initialiser et entraîner, il est temps d'évaluer ses performances"
   ]
  },
  {
   "cell_type": "code",
   "execution_count": null,
   "metadata": {
    "colab": {
     "base_uri": "https://localhost:8080/"
    },
    "executionInfo": {
     "elapsed": 416,
     "status": "ok",
     "timestamp": 1714798201691,
     "user": {
      "displayName": "Thierno Amadou Diallo",
      "userId": "03010582142303045952"
     },
     "user_tz": -120
    },
    "id": "ZFtBz1v368ZU",
    "outputId": "ed15feef-5a6a-477a-dbd1-040d48a6a849"
   },
   "outputs": [
    {
     "name": "stdout",
     "output_type": "stream",
     "text": [
      "Mean Absolute Error: 42.71442482685759\n",
      "R2 Score: 0.9981771481565684\n"
     ]
    }
   ],
   "source": [
    "# Évaluation de la performance du modèle\n",
    "mae = mean_absolute_error(y_test, y_pred)\n",
    "print(\"Mean Absolute Error:\", mae)\n",
    "\n",
    "r2 = r2_score(y_test, y_pred)\n",
    "print(\"R2 Score:\", r2)\n"
   ]
  },
  {
   "cell_type": "markdown",
   "metadata": {
    "id": "CZoT3SeA6-1U"
   },
   "source": [
    "#Visualisation\n",
    "Nous pouvons visualiser les valeurs prédites par notre modèle par rapport aux valeurs réelles afin de mieux évaluer les performances du modèle"
   ]
  },
  {
   "cell_type": "code",
   "execution_count": null,
   "metadata": {
    "colab": {
     "base_uri": "https://localhost:8080/",
     "height": 564
    },
    "executionInfo": {
     "elapsed": 733,
     "status": "ok",
     "timestamp": 1714798206010,
     "user": {
      "displayName": "Thierno Amadou Diallo",
      "userId": "03010582142303045952"
     },
     "user_tz": -120
    },
    "id": "7lCZ4JPJ6_3M",
    "outputId": "fef39521-411a-4e33-ba7e-29dcf661eba1"
   },
   "outputs": [
    {
     "data": {
      "image/png": "[encoded data removed]",
      "text/plain": [
       "<Figure size 800x600 with 1 Axes>"
      ]
     },
     "metadata": {},
     "output_type": "display_data"
    }
   ],
   "source": [
    "# Visualisation des valeurs prédites par rapport aux valeurs réelles\n",
    "plt.figure(figsize=(8, 6))\n",
    "plt.scatter(y_test, y_pred, color='blue', label='Valeurs Prédites')\n",
    "plt.scatter(y_test, y_test, color='red', label='Valeurs Réelles')\n",
    "plt.title('Nombre de morts : Valeurs Prédites vs Valeurs Réelles')\n",
    "plt.xlabel('Valeurs Réelles')\n",
    "plt.ylabel('Valeurs Prédites')\n",
    "plt.legend()\n",
    "plt.show()\n"
   ]
  }
 ],
 "metadata": {
  "colab": {
   "authorship_tag": "ABX9TyOOhf5nO9e/0Xos9+GvdMdk",
   "provenance": []
  },
  "kernelspec": {
   "display_name": "Python 3",
   "name": "python3"
  },
  "language_info": {
   "name": "python"
  }
 },
 "nbformat": 4,
 "nbformat_minor": 0
}
